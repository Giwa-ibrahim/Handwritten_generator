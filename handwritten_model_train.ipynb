{
 "cells": [
  {
   "cell_type": "code",
   "execution_count": 1,
   "id": "4bc4f06c",
   "metadata": {},
   "outputs": [],
   "source": [
    "import torch\n",
    "import streamlit as st\n",
    "import torch.nn as nn\n",
    "import torch.optim as optim\n",
    "from torchvision import datasets, transforms\n",
    "from torch.utils.data import DataLoader\n",
    "import os\n",
    "from torchvision.utils import make_grid\n"
   ]
  },
  {
   "cell_type": "code",
   "execution_count": 2,
   "id": "24019c8f",
   "metadata": {},
   "outputs": [],
   "source": [
    "transform = transforms.Compose([\n",
    "    transforms.ToTensor(),\n",
    "    transforms.Normalize([0.5], [0.5])\n",
    "])\n",
    "\n",
    "mnist_train = datasets.MNIST(root='.', train=True, download=True, transform=transform)\n",
    "train_loader = DataLoader(mnist_train, batch_size=128, shuffle=True)\n"
   ]
  },
  {
   "cell_type": "code",
   "execution_count": 3,
   "id": "11c916ad",
   "metadata": {},
   "outputs": [],
   "source": [
    "class DigitGenerator(nn.Module):\n",
    "    def __init__(self, latent_dim=100, label_dim=10):\n",
    "        super().__init__()\n",
    "        self.label_embedding = nn.Embedding(label_dim, label_dim)\n",
    "        self.model = nn.Sequential(\n",
    "            nn.Linear(latent_dim + label_dim, 128),\n",
    "            nn.LeakyReLU(0.2),\n",
    "            nn.Linear(128, 256),\n",
    "            nn.BatchNorm1d(256),\n",
    "            nn.LeakyReLU(0.2),\n",
    "            nn.Linear(256, 512),\n",
    "            nn.BatchNorm1d(512),\n",
    "            nn.LeakyReLU(0.2),\n",
    "            nn.Linear(512, 784),\n",
    "            nn.Tanh()\n",
    "        )\n",
    "\n",
    "    def forward(self, noise, labels):\n",
    "        label_input = self.label_embedding(labels)\n",
    "        x = torch.cat((noise, label_input), dim=1)\n",
    "        x = self.model(x)\n",
    "        return x.view(-1, 1, 28, 28)\n"
   ]
  },
  {
   "cell_type": "code",
   "execution_count": 4,
   "id": "b0ddc69f",
   "metadata": {},
   "outputs": [
    {
     "name": "stdout",
     "output_type": "stream",
     "text": [
      "Epoch 1/20, Loss: 1.0194\n",
      "Epoch 2/20, Loss: 1.0031\n",
      "Epoch 3/20, Loss: 1.0033\n",
      "Epoch 4/20, Loss: 1.0048\n",
      "Epoch 5/20, Loss: 0.9999\n",
      "Epoch 6/20, Loss: 1.0101\n",
      "Epoch 7/20, Loss: 1.0054\n",
      "Epoch 8/20, Loss: 0.9972\n",
      "Epoch 9/20, Loss: 1.0015\n",
      "Epoch 10/20, Loss: 1.0059\n",
      "Epoch 11/20, Loss: 1.0024\n",
      "Epoch 12/20, Loss: 0.9895\n",
      "Epoch 13/20, Loss: 1.0018\n",
      "Epoch 14/20, Loss: 0.9996\n",
      "Epoch 15/20, Loss: 0.9990\n",
      "Epoch 16/20, Loss: 1.0090\n",
      "Epoch 17/20, Loss: 1.0030\n",
      "Epoch 18/20, Loss: 1.0009\n",
      "Epoch 19/20, Loss: 1.0047\n",
      "Epoch 20/20, Loss: 0.9932\n"
     ]
    }
   ],
   "source": [
    "latent_dim = 100\n",
    "generator = DigitGenerator(latent_dim=latent_dim)\n",
    "criterion = nn.MSELoss()\n",
    "optimizer = optim.Adam(generator.parameters(), lr=0.0002)\n",
    "\n",
    "epochs = 20\n",
    "for epoch in range(epochs):\n",
    "    for _ in range(len(train_loader)):\n",
    "        z = torch.randn(64, latent_dim)\n",
    "        labels = torch.randint(0, 10, (64,))\n",
    "        fake_images = generator(z, labels)\n",
    "        loss = criterion(fake_images, torch.randn_like(fake_images))\n",
    "\n",
    "        optimizer.zero_grad()\n",
    "        loss.backward()\n",
    "        optimizer.step()\n",
    "\n",
    "    print(f\"Epoch {epoch+1}/{epochs}, Loss: {loss.item():.4f}\")\n"
   ]
  },
  {
   "cell_type": "code",
   "execution_count": 5,
   "id": "41a10c6b",
   "metadata": {},
   "outputs": [],
   "source": [
    "os.makedirs('models', exist_ok=True)\n",
    "torch.save(generator.state_dict(), 'models/digit_generator.pth')\n"
   ]
  }
 ],
 "metadata": {
  "kernelspec": {
   "display_name": "handwritten-computer-vision",
   "language": "python",
   "name": "python3"
  },
  "language_info": {
   "codemirror_mode": {
    "name": "ipython",
    "version": 3
   },
   "file_extension": ".py",
   "mimetype": "text/x-python",
   "name": "python",
   "nbconvert_exporter": "python",
   "pygments_lexer": "ipython3",
   "version": "3.12.10"
  }
 },
 "nbformat": 4,
 "nbformat_minor": 5
}
